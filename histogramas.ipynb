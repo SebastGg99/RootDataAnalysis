{
 "cells": [
  {
   "cell_type": "code",
   "execution_count": null,
   "metadata": {},
   "outputs": [],
   "source": [
    "import pandas as pd\n",
    "\n",
    "# Cargar una muestra de los datos\n",
    "df = pd.read_csv('primerasFilas.csv', nrows=100000)\n",
    "\n",
    "# Mostrar las primeras filas del DataFrame\n",
    "print(df.head())\n",
    "\n",
    "# Información general del DataFrame\n",
    "print(df.info())"
   ]
  },
  {
   "cell_type": "code",
   "execution_count": null,
   "metadata": {},
   "outputs": [],
   "source": [
    "# Convertir columnas de fechas a tipo datetime\n",
    "df['tpep_pickup_datetime'] = pd.to_datetime(df['tpep_pickup_datetime'])\n",
    "df['tpep_dropoff_datetime'] = pd.to_datetime(df['tpep_dropoff_datetime'])\n",
    "\n",
    "# Calcular la duración del viaje en minutos\n",
    "df['trip_duration'] = (df['tpep_dropoff_datetime'] - df['tpep_pickup_datetime']).dt.total_seconds() / 60\n",
    "\n",
    "# Filtrar viajes con duraciones y distancias positivas\n",
    "df = df[(df['trip_duration'] > 0) & (df['trip_duration'] <= 120)]\n",
    "df = df[(df['trip_distance'] > 0) & (df['trip_distance'] <= 50)]"
   ]
  },
  {
   "cell_type": "code",
   "execution_count": null,
   "metadata": {},
   "outputs": [],
   "source": [
    "import matplotlib.pyplot as plt\n",
    "import seaborn as sns\n",
    "\n",
    "plt.figure(figsize=(10, 6))\n",
    "sns.histplot(df['trip_duration'], bins=50, kde=False)\n",
    "plt.title('Distribución de la duración de los viajes')\n",
    "plt.xlabel('Duración del viaje (minutos)')\n",
    "plt.ylabel('Frecuencia')\n",
    "plt.show()"
   ]
  },
  {
   "cell_type": "code",
   "execution_count": null,
   "metadata": {},
   "outputs": [],
   "source": [
    "plt.figure(figsize=(10, 6))\n",
    "sns.histplot(df['trip_distance'], bins=50, kde=False)\n",
    "plt.title('Distribución de la distancia de los viajes')\n",
    "plt.xlabel('Distancia del viaje (millas)')\n",
    "plt.ylabel('Frecuencia')\n",
    "plt.show()"
   ]
  },
  {
   "cell_type": "code",
   "execution_count": null,
   "metadata": {},
   "outputs": [],
   "source": [
    "plt.figure(figsize=(10, 6))\n",
    "sns.countplot(x='payment_type', data=df, palette='viridis')\n",
    "plt.title('Frecuencia de los tipos de pago')\n",
    "plt.xlabel('Tipo de pago')\n",
    "plt.ylabel('Cantidad de viajes')\n",
    "plt.show()"
   ]
  },
  {
   "cell_type": "code",
   "execution_count": null,
   "metadata": {},
   "outputs": [],
   "source": [
    "plt.figure(figsize=(10, 6))\n",
    "sns.scatterplot(x='trip_distance', y='trip_duration', alpha=0.5)\n",
    "plt.title('Relación entre distancia y duración del viaje')\n",
    "plt.xlabel('Distancia del viaje (millas)')\n",
    "plt.ylabel('Duración del viaje (minutos)')\n",
    "plt.show()\n"
   ]
  },
  {
   "cell_type": "code",
   "execution_count": null,
   "metadata": {},
   "outputs": [],
   "source": [
    "plt.figure(figsize=(10, 6))\n",
    "sns.scatterplot(x='trip_distance', y='trip_duration', alpha=0.5)\n",
    "plt.title('Relación entre distancia y duración del viaje')\n",
    "plt.xlabel('Distancia del viaje (millas)')\n",
    "plt.ylabel('Duración del viaje (minutos)')\n",
    "plt.show()\n"
   ]
  }
 ],
 "metadata": {
  "kernelspec": {
   "display_name": "Python 3",
   "language": "python",
   "name": "python3"
  },
  "language_info": {
   "name": "python",
   "version": "3.10.1"
  }
 },
 "nbformat": 4,
 "nbformat_minor": 2
}
